{
 "cells": [
  {
   "cell_type": "markdown",
   "id": "ef36f535-4bdc-4e2b-a22a-179372324b26",
   "metadata": {},
   "source": [
    "![walmartecomm](walmartecomm.jpg)\n",
    "\n",
    "Walmart is the biggest retail store in the United States. Just like others, they have been expanding their e-commerce part of the business. By the end of 2022, e-commerce represented a roaring $80 billion in sales, which is 13% of total sales of Walmart. One of the main factors that affects their sales is public holidays, like the Super Bowl, Labour Day, Thanksgiving, and Christmas. \n",
    "\n",
    "In this project, you have been tasked with creating a data pipeline for the analysis of supply and demand around the holidays, along with conducting a preliminary analysis of the data. You will be working with two data sources: grocery sales and complementary data. You have been provided with the `grocery_sales` table in `PostgreSQL` database with the following features:\n",
    "\n",
    "# `grocery_sales`\n",
    "- `\"index\"` - unique ID of the row\n",
    "- `\"Store_ID\"` - the store number\n",
    "- `\"Date\"` - the week of sales\n",
    "- `\"Weekly_Sales\"` - sales for the given store\n",
    "\n",
    "Also, you have the `extra_data.parquet` file that contains complementary data:\n",
    "\n",
    "# `extra_data.parquet`\n",
    "- `\"IsHoliday\"` - Whether the week contains a public holiday - 1 if yes, 0 if no.\n",
    "- `\"Temperature\"` - Temperature on the day of sale\n",
    "- `\"Fuel_Price\"` - Cost of fuel in the region\n",
    "- `\"CPI\"` – Prevailing consumer price index\n",
    "- `\"Unemployment\"` - The prevailing unemployment rate\n",
    "- `\"MarkDown1\"`, `\"MarkDown2\"`, `\"MarkDown3\"`, `\"MarkDown4\"` - number of promotional markdowns\n",
    "- `\"Dept\"` - Department Number in each store\n",
    "- `\"Size\"` - size of the store\n",
    "- `\"Type\"` - type of the store (depends on `Size` column)\n",
    "\n",
    "You will need to merge those files and perform some data manipulations. The transformed DataFrame can then be stored as the `clean_data` variable containing the following columns:\n",
    "- `\"Store_ID\"`\n",
    "- `\"Month\"`\n",
    "- `\"Dept\"`\n",
    "- `\"IsHoliday\"`\n",
    "- `\"Weekly_Sales\"`\n",
    "- `\"CPI\"`\n",
    "- \"`\"Unemployment\"`\"\n",
    "\n",
    "After merging and cleaning the data, you will have to analyze monthly sales of Walmart and store the results of your analysis as the `agg_data` variable that should look like:\n",
    "\n",
    "|  Month | Weekly_Sales  | \n",
    "|---|---|\n",
    "| 1.0  |  33174.178494 |\n",
    "|  2.0 |  34333.326579 |\n",
    "|  ... | ...  |  \n",
    "\n",
    "Finally, you should save the `clean_data` and `agg_data` as the csv files.\n",
    "\n",
    "It is recommended to use `pandas` for this project. "
   ]
  },
  {
   "cell_type": "code",
   "execution_count": 230,
   "id": "c0d64ff1-a4ca-4a82-a8b4-e210244dedc1",
   "metadata": {
    "executionCancelledAt": null,
    "executionTime": 84,
    "lastExecutedAt": 1741371161959,
    "lastExecutedByKernel": "865ed7e5-c64f-486f-8ee0-47a66c2da860",
    "lastScheduledRunId": null,
    "lastSuccessfullyExecutedCode": "import pandas as pd\nimport os\n\n# Extract function is already implemented for you \ndef extract(store_data, extra_data):\n    extra_df = pd.read_parquet(extra_data)\n    merged_df = store_data.merge(extra_df, on = \"index\")\n    return merged_df\n\n# Call the extract() function and store it as the \"merged_df\" variable\nmerged_df = extract(grocery_sales, \"extra_data.parquet\")"
   },
   "outputs": [],
   "source": [
    "import pandas as pd\n",
    "import os\n",
    "\n",
    "# Extract function is already implemented for you \n",
    "def extract(store_data, extra_data):\n",
    "    extra_df = pd.read_parquet(extra_data)\n",
    "    merged_df = store_data.merge(extra_df, on = \"index\")\n",
    "    return merged_df\n",
    "\n",
    "# Call the extract() function and store it as the \"merged_df\" variable\n",
    "merged_df = extract(grocery_sales, \"extra_data.parquet\")"
   ]
  },
  {
   "cell_type": "code",
   "execution_count": 231,
   "id": "dadf06a5-2e37-4a99-9191-4f3eebd7728b",
   "metadata": {
    "executionCancelledAt": null,
    "executionTime": 53,
    "lastExecutedAt": 1741371162013,
    "lastExecutedByKernel": "865ed7e5-c64f-486f-8ee0-47a66c2da860",
    "lastScheduledRunId": null,
    "lastSuccessfullyExecutedCode": "merged_df.head()\nprint(merged_df.isna().sum())",
    "outputsMetadata": {
     "0": {
      "height": 395,
      "type": "stream"
     }
    }
   },
   "outputs": [
    {
     "name": "stdout",
     "output_type": "stream",
     "text": [
      "index            0\n",
      "Store_ID         0\n",
      "Date            39\n",
      "Dept             0\n",
      "Weekly_Sales    38\n",
      "IsHoliday        0\n",
      "Temperature      0\n",
      "Fuel_Price       0\n",
      "MarkDown1        0\n",
      "MarkDown2        0\n",
      "MarkDown3        0\n",
      "MarkDown4        1\n",
      "MarkDown5        1\n",
      "CPI             47\n",
      "Unemployment    37\n",
      "Type             1\n",
      "Size             1\n",
      "dtype: int64\n"
     ]
    }
   ],
   "source": [
    "merged_df.head()\n",
    "print(merged_df.isna().sum())"
   ]
  },
  {
   "cell_type": "code",
   "execution_count": 232,
   "id": "6d3c25e2-e7d8-4c33-9be0-d45f03b2cf43",
   "metadata": {
    "executionCancelledAt": null,
    "executionTime": 54,
    "lastExecutedAt": 1741371162068,
    "lastExecutedByKernel": "865ed7e5-c64f-486f-8ee0-47a66c2da860",
    "lastScheduledRunId": null,
    "lastSuccessfullyExecutedCode": "# Create the transform() function with one parameter: \"raw_data\"\ndef transform(raw_data):\n    # Write your code here\n    raw_data = raw_data[raw_data[\"Weekly_Sales\"] > 10000]\n    \n    raw_data[\"Weekly_Sales\"] = raw_data[\"Weekly_Sales\"].fillna(0)\n    raw_data[\"CPI\"] = raw_data[\"CPI\"].interpolate()\n    raw_data[\"Unemployment\"] = raw_data[\"Unemployment\"].ffill()\n    \n    raw_data[\"Date\"] = pd.to_datetime(raw_data[\"Date\"])\n    raw_data[\"Month\"] = raw_data[\"Date\"].dt.month\n    raw_data = raw_data.dropna(subset=[\"Date\", \"MarkDown4\", \"MarkDown5\"])\n    raw_data = raw_data.drop(\n        columns=[\"index\", \"Temperature\", \"Fuel_Price\", \"MarkDown1\", \"MarkDown2\", \"MarkDown3\", \"MarkDown4\", \"MarkDown5\",\"Type\",\"Size\",\"Dept\",\"Date\"]\n    )\n \n    return raw_data"
   },
   "outputs": [],
   "source": [
    "# Create the transform() function with one parameter: \"raw_data\"\n",
    "def transform(raw_data):\n",
    "    # Write your code here\n",
    "    raw_data = raw_data[raw_data[\"Weekly_Sales\"] > 10000]\n",
    "    \n",
    "    raw_data[\"Weekly_Sales\"] = raw_data[\"Weekly_Sales\"].fillna(0)\n",
    "    raw_data[\"CPI\"] = raw_data[\"CPI\"].interpolate()\n",
    "    raw_data[\"Unemployment\"] = raw_data[\"Unemployment\"].ffill()\n",
    "    \n",
    "    raw_data[\"Date\"] = pd.to_datetime(raw_data[\"Date\"])\n",
    "    raw_data[\"Month\"] = raw_data[\"Date\"].dt.month\n",
    "    raw_data = raw_data.dropna(subset=[\"Date\", \"MarkDown4\", \"MarkDown5\"])\n",
    "    raw_data = raw_data.drop(\n",
    "        columns=[\"index\", \"Temperature\", \"Fuel_Price\", \"MarkDown1\", \"MarkDown2\", \"MarkDown3\", \"MarkDown4\", \"MarkDown5\",\"Type\",\"Size\",\"Dept\",\"Date\"]\n",
    "    )\n",
    " \n",
    "    return raw_data"
   ]
  },
  {
   "cell_type": "code",
   "execution_count": 233,
   "id": "620b7289-06cd-4205-be9e-a50dc8d36cf0",
   "metadata": {
    "executionCancelledAt": null,
    "executionTime": 60,
    "lastExecutedAt": 1741371162128,
    "lastExecutedByKernel": "865ed7e5-c64f-486f-8ee0-47a66c2da860",
    "lastScheduledRunId": null,
    "lastSuccessfullyExecutedCode": "# Call the transform() function and pass the merged DataFrame\nclean_data = transform(merged_df)\nclean_data.head()",
    "outputsMetadata": {
     "0": {
      "height": 550,
      "tableState": {
       "customFilter": {
        "const": {
         "type": "boolean",
         "valid": true,
         "value": true
        },
        "id": "e58c5843-1ee3-431d-8b96-6312af606876",
        "nodeType": "const"
       },
       "quickFilterText": ""
      },
      "type": "dataFrame"
     }
    }
   },
   "outputs": [
    {
     "data": {
      "application/com.datacamp.data-table.v2+json": {
       "table": {
        "data": {
         "CPI": [
          211.0963582,
          211.0963582,
          211.0963582,
          211.0963582,
          211.0963582
         ],
         "IsHoliday": [
          0,
          0,
          0,
          0,
          0
         ],
         "Month": [
          2,
          2,
          2,
          2,
          2
         ],
         "Store_ID": [
          1,
          1,
          1,
          1,
          1
         ],
         "Unemployment": [
          8.106,
          8.106,
          8.106,
          8.106,
          8.106
         ],
         "Weekly_Sales": [
          24924.5,
          11737.12,
          13223.76,
          46729.77,
          21249.31
         ],
         "index": [
          0,
          1,
          2,
          5,
          6
         ]
        },
        "schema": {
         "fields": [
          {
           "name": "index",
           "type": "integer"
          },
          {
           "name": "Store_ID",
           "type": "integer"
          },
          {
           "name": "Weekly_Sales",
           "type": "number"
          },
          {
           "name": "IsHoliday",
           "type": "integer"
          },
          {
           "name": "CPI",
           "type": "number"
          },
          {
           "name": "Unemployment",
           "type": "number"
          },
          {
           "name": "Month",
           "type": "number"
          }
         ],
         "pandas_version": "1.4.0",
         "primaryKey": [
          "index"
         ]
        }
       },
       "total_rows": 5,
       "truncation_type": null
      },
      "text/html": [
       "<div>\n",
       "<style scoped>\n",
       "    .dataframe tbody tr th:only-of-type {\n",
       "        vertical-align: middle;\n",
       "    }\n",
       "\n",
       "    .dataframe tbody tr th {\n",
       "        vertical-align: top;\n",
       "    }\n",
       "\n",
       "    .dataframe thead th {\n",
       "        text-align: right;\n",
       "    }\n",
       "</style>\n",
       "<table border=\"1\" class=\"dataframe\">\n",
       "  <thead>\n",
       "    <tr style=\"text-align: right;\">\n",
       "      <th></th>\n",
       "      <th>Store_ID</th>\n",
       "      <th>Weekly_Sales</th>\n",
       "      <th>IsHoliday</th>\n",
       "      <th>CPI</th>\n",
       "      <th>Unemployment</th>\n",
       "      <th>Month</th>\n",
       "    </tr>\n",
       "  </thead>\n",
       "  <tbody>\n",
       "    <tr>\n",
       "      <th>0</th>\n",
       "      <td>1</td>\n",
       "      <td>24924.50</td>\n",
       "      <td>0</td>\n",
       "      <td>211.096358</td>\n",
       "      <td>8.106</td>\n",
       "      <td>2.0</td>\n",
       "    </tr>\n",
       "    <tr>\n",
       "      <th>1</th>\n",
       "      <td>1</td>\n",
       "      <td>11737.12</td>\n",
       "      <td>0</td>\n",
       "      <td>211.096358</td>\n",
       "      <td>8.106</td>\n",
       "      <td>2.0</td>\n",
       "    </tr>\n",
       "    <tr>\n",
       "      <th>2</th>\n",
       "      <td>1</td>\n",
       "      <td>13223.76</td>\n",
       "      <td>0</td>\n",
       "      <td>211.096358</td>\n",
       "      <td>8.106</td>\n",
       "      <td>2.0</td>\n",
       "    </tr>\n",
       "    <tr>\n",
       "      <th>5</th>\n",
       "      <td>1</td>\n",
       "      <td>46729.77</td>\n",
       "      <td>0</td>\n",
       "      <td>211.096358</td>\n",
       "      <td>8.106</td>\n",
       "      <td>2.0</td>\n",
       "    </tr>\n",
       "    <tr>\n",
       "      <th>6</th>\n",
       "      <td>1</td>\n",
       "      <td>21249.31</td>\n",
       "      <td>0</td>\n",
       "      <td>211.096358</td>\n",
       "      <td>8.106</td>\n",
       "      <td>2.0</td>\n",
       "    </tr>\n",
       "  </tbody>\n",
       "</table>\n",
       "</div>"
      ],
      "text/plain": [
       "   Store_ID  Weekly_Sales  IsHoliday         CPI  Unemployment  Month\n",
       "0         1      24924.50          0  211.096358         8.106    2.0\n",
       "1         1      11737.12          0  211.096358         8.106    2.0\n",
       "2         1      13223.76          0  211.096358         8.106    2.0\n",
       "5         1      46729.77          0  211.096358         8.106    2.0\n",
       "6         1      21249.31          0  211.096358         8.106    2.0"
      ]
     },
     "execution_count": 233,
     "metadata": {
      "application/com.datacamp.data-table.v2+json": {
       "status": "success"
      }
     },
     "output_type": "execute_result"
    }
   ],
   "source": [
    "# Call the transform() function and pass the merged DataFrame\n",
    "clean_data = transform(merged_df)\n",
    "clean_data.head()"
   ]
  },
  {
   "cell_type": "code",
   "execution_count": 234,
   "id": "b19b15e3-6624-47a9-927f-d3f12fe8212d",
   "metadata": {
    "executionCancelledAt": null,
    "executionTime": 52,
    "lastExecutedAt": 1741371162180,
    "lastExecutedByKernel": "865ed7e5-c64f-486f-8ee0-47a66c2da860",
    "lastScheduledRunId": null,
    "lastSuccessfullyExecutedCode": "def avg_weekly_sales_per_month(clean_data):\n    agg_data = (clean_data[[\"Month\", \"Weekly_Sales\"]]  # Select necessary columns\n                .groupby(\"Month\")  # Group by Month\n                .agg(Avg_Sales=(\"Weekly_Sales\", \"mean\")) # Calculate average weekly sales\n                .reset_index()  # Reset index\n                .round(2)  # Round to two decimal places\n               )\n    return agg_data"
   },
   "outputs": [],
   "source": [
    "def avg_weekly_sales_per_month(clean_data):\n",
    "    agg_data = (clean_data[[\"Month\", \"Weekly_Sales\"]]  # Select necessary columns\n",
    "                .groupby(\"Month\")  # Group by Month\n",
    "                .agg(Avg_Sales=(\"Weekly_Sales\", \"mean\")) # Calculate average weekly sales\n",
    "                .reset_index()  # Reset index\n",
    "                .round(2)  # Round to two decimal places\n",
    "               )\n",
    "    return agg_data"
   ]
  },
  {
   "cell_type": "code",
   "execution_count": 235,
   "id": "fe875e27-b0cf-4e52-994e-4ae1fe6e8876",
   "metadata": {
    "executionCancelledAt": null,
    "executionTime": 51,
    "lastExecutedAt": 1741371162232,
    "lastExecutedByKernel": "865ed7e5-c64f-486f-8ee0-47a66c2da860",
    "lastScheduledRunId": null,
    "lastSuccessfullyExecutedCode": "# Call the avg_weekly_sales_per_month() function and pass the cleaned DataFrame\nagg_data=avg_weekly_sales_per_month(clean_data)\nagg_data",
    "outputsMetadata": {
     "0": {
      "height": 550,
      "tableState": {
       "customFilter": {
        "const": {
         "type": "boolean",
         "valid": true,
         "value": true
        },
        "id": "e58c5843-1ee3-431d-8b96-6312af606876",
        "nodeType": "const"
       },
       "quickFilterText": ""
      },
      "type": "dataFrame"
     }
    }
   },
   "outputs": [
    {
     "data": {
      "application/com.datacamp.data-table.v2+json": {
       "table": {
        "data": {
         "Avg_Sales": [
          33174.18,
          34342.44,
          33227.31,
          33414.78,
          33339.89,
          34582.47,
          33930.77,
          33644.79,
          33266.59,
          32736.99,
          36594.03,
          39248.98
         ],
         "Month": [
          1,
          2,
          3,
          4,
          5,
          6,
          7,
          8,
          9,
          10,
          11,
          12
         ],
         "index": [
          0,
          1,
          2,
          3,
          4,
          5,
          6,
          7,
          8,
          9,
          10,
          11
         ]
        },
        "schema": {
         "fields": [
          {
           "name": "index",
           "type": "integer"
          },
          {
           "name": "Month",
           "type": "number"
          },
          {
           "name": "Avg_Sales",
           "type": "number"
          }
         ],
         "pandas_version": "1.4.0",
         "primaryKey": [
          "index"
         ]
        }
       },
       "total_rows": 12,
       "truncation_type": null
      },
      "text/html": [
       "<div>\n",
       "<style scoped>\n",
       "    .dataframe tbody tr th:only-of-type {\n",
       "        vertical-align: middle;\n",
       "    }\n",
       "\n",
       "    .dataframe tbody tr th {\n",
       "        vertical-align: top;\n",
       "    }\n",
       "\n",
       "    .dataframe thead th {\n",
       "        text-align: right;\n",
       "    }\n",
       "</style>\n",
       "<table border=\"1\" class=\"dataframe\">\n",
       "  <thead>\n",
       "    <tr style=\"text-align: right;\">\n",
       "      <th></th>\n",
       "      <th>Month</th>\n",
       "      <th>Avg_Sales</th>\n",
       "    </tr>\n",
       "  </thead>\n",
       "  <tbody>\n",
       "    <tr>\n",
       "      <th>0</th>\n",
       "      <td>1.0</td>\n",
       "      <td>33174.18</td>\n",
       "    </tr>\n",
       "    <tr>\n",
       "      <th>1</th>\n",
       "      <td>2.0</td>\n",
       "      <td>34342.44</td>\n",
       "    </tr>\n",
       "    <tr>\n",
       "      <th>2</th>\n",
       "      <td>3.0</td>\n",
       "      <td>33227.31</td>\n",
       "    </tr>\n",
       "    <tr>\n",
       "      <th>3</th>\n",
       "      <td>4.0</td>\n",
       "      <td>33414.78</td>\n",
       "    </tr>\n",
       "    <tr>\n",
       "      <th>4</th>\n",
       "      <td>5.0</td>\n",
       "      <td>33339.89</td>\n",
       "    </tr>\n",
       "    <tr>\n",
       "      <th>5</th>\n",
       "      <td>6.0</td>\n",
       "      <td>34582.47</td>\n",
       "    </tr>\n",
       "    <tr>\n",
       "      <th>6</th>\n",
       "      <td>7.0</td>\n",
       "      <td>33930.77</td>\n",
       "    </tr>\n",
       "    <tr>\n",
       "      <th>7</th>\n",
       "      <td>8.0</td>\n",
       "      <td>33644.79</td>\n",
       "    </tr>\n",
       "    <tr>\n",
       "      <th>8</th>\n",
       "      <td>9.0</td>\n",
       "      <td>33266.59</td>\n",
       "    </tr>\n",
       "    <tr>\n",
       "      <th>9</th>\n",
       "      <td>10.0</td>\n",
       "      <td>32736.99</td>\n",
       "    </tr>\n",
       "    <tr>\n",
       "      <th>10</th>\n",
       "      <td>11.0</td>\n",
       "      <td>36594.03</td>\n",
       "    </tr>\n",
       "    <tr>\n",
       "      <th>11</th>\n",
       "      <td>12.0</td>\n",
       "      <td>39248.98</td>\n",
       "    </tr>\n",
       "  </tbody>\n",
       "</table>\n",
       "</div>"
      ],
      "text/plain": [
       "    Month  Avg_Sales\n",
       "0     1.0   33174.18\n",
       "1     2.0   34342.44\n",
       "2     3.0   33227.31\n",
       "3     4.0   33414.78\n",
       "4     5.0   33339.89\n",
       "5     6.0   34582.47\n",
       "6     7.0   33930.77\n",
       "7     8.0   33644.79\n",
       "8     9.0   33266.59\n",
       "9    10.0   32736.99\n",
       "10   11.0   36594.03\n",
       "11   12.0   39248.98"
      ]
     },
     "execution_count": 235,
     "metadata": {
      "application/com.datacamp.data-table.v2+json": {
       "status": "success"
      }
     },
     "output_type": "execute_result"
    }
   ],
   "source": [
    "# Call the avg_weekly_sales_per_month() function and pass the cleaned DataFrame\n",
    "agg_data=avg_weekly_sales_per_month(clean_data)\n",
    "agg_data"
   ]
  },
  {
   "cell_type": "code",
   "execution_count": 236,
   "id": "921cb123-3153-4334-bdeb-9bb227fdc530",
   "metadata": {
    "executionCancelledAt": null,
    "executionTime": 49,
    "lastExecutedAt": 1741371162281,
    "lastExecutedByKernel": "865ed7e5-c64f-486f-8ee0-47a66c2da860",
    "lastScheduledRunId": null,
    "lastSuccessfullyExecutedCode": "# Create the load() function that takes in the cleaned DataFrame and the aggregated one with the paths where they are going to be stored\ndef load(full_data, full_data_file_path, agg_data, agg_data_file_path):\n    # Write your code here\n    full_data.to_csv(full_data_file_path,index=False)\n    agg_data.to_csv(agg_data_file_path,index=False)"
   },
   "outputs": [],
   "source": [
    "# Create the load() function that takes in the cleaned DataFrame and the aggregated one with the paths where they are going to be stored\n",
    "def load(full_data, full_data_file_path, agg_data, agg_data_file_path):\n",
    "    # Write your code here\n",
    "    full_data.to_csv(full_data_file_path,index=False)\n",
    "    agg_data.to_csv(agg_data_file_path,index=False)"
   ]
  },
  {
   "cell_type": "code",
   "execution_count": 237,
   "id": "f518ad5c-214e-474b-80bd-827b0c0e1536",
   "metadata": {
    "executionCancelledAt": null,
    "executionTime": 412,
    "lastExecutedAt": 1741371162693,
    "lastExecutedByKernel": "865ed7e5-c64f-486f-8ee0-47a66c2da860",
    "lastScheduledRunId": null,
    "lastSuccessfullyExecutedCode": "# Call the load() function and pass the cleaned and aggregated DataFrames with their paths\nload(clean_data,\"clean_data.csv\",agg_data,\"agg_data.csv\")"
   },
   "outputs": [],
   "source": [
    "# Call the load() function and pass the cleaned and aggregated DataFrames with their paths\n",
    "load(clean_data,\"clean_data.csv\",agg_data,\"agg_data.csv\")"
   ]
  },
  {
   "cell_type": "code",
   "execution_count": 238,
   "id": "61b5f58a-70cb-40b3-bdbe-20b4079276e3",
   "metadata": {
    "executionCancelledAt": null,
    "executionTime": 49,
    "lastExecutedAt": 1741371162744,
    "lastExecutedByKernel": "865ed7e5-c64f-486f-8ee0-47a66c2da860",
    "lastScheduledRunId": null,
    "lastSuccessfullyExecutedCode": "# Create the validation() function with one parameter: file_path - to check whether the previous function was correctly executed\ndef validation(file_path):\n    # Write your code here\n    return os.path.exists(file_path)"
   },
   "outputs": [],
   "source": [
    "# Create the validation() function with one parameter: file_path - to check whether the previous function was correctly executed\n",
    "def validation(file_path):\n",
    "    # Write your code here\n",
    "    return os.path.exists(file_path)"
   ]
  },
  {
   "cell_type": "code",
   "execution_count": 239,
   "id": "df1659ff-41c4-4a92-9812-80c6eaa02b90",
   "metadata": {
    "executionCancelledAt": null,
    "executionTime": 52,
    "lastExecutedAt": 1741371162796,
    "lastExecutedByKernel": "865ed7e5-c64f-486f-8ee0-47a66c2da860",
    "lastScheduledRunId": null,
    "lastSuccessfullyExecutedCode": "# Call the validation() function and pass first, the cleaned DataFrame path, and then the aggregated DataFrame path\nprint(validation(\"clean_data.csv\"))\nprint(validation(\"agg_data.csv\"))",
    "outputsMetadata": {
     "0": {
      "height": 59,
      "type": "stream"
     }
    }
   },
   "outputs": [
    {
     "name": "stdout",
     "output_type": "stream",
     "text": [
      "True\n",
      "True\n"
     ]
    }
   ],
   "source": [
    "# Call the validation() function and pass first, the cleaned DataFrame path, and then the aggregated DataFrame path\n",
    "print(validation(\"clean_data.csv\"))\n",
    "print(validation(\"agg_data.csv\"))"
   ]
  }
 ],
 "metadata": {
  "colab": {
   "name": "Welcome to DataCamp Workspaces.ipynb",
   "provenance": []
  },
  "editor": "DataLab",
  "kernelspec": {
   "display_name": "Python 3 (ipykernel)",
   "language": "python",
   "name": "python3"
  },
  "language_info": {
   "codemirror_mode": {
    "name": "ipython",
    "version": 3
   },
   "file_extension": ".py",
   "mimetype": "text/x-python",
   "name": "python",
   "nbconvert_exporter": "python",
   "pygments_lexer": "ipython3",
   "version": "3.8.10"
  }
 },
 "nbformat": 4,
 "nbformat_minor": 5
}
